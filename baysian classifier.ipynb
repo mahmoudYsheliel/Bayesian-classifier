{
  "nbformat": 4,
  "nbformat_minor": 0,
  "metadata": {
    "colab": {
      "provenance": []
    },
    "kernelspec": {
      "name": "python3",
      "display_name": "Python 3"
    },
    "language_info": {
      "name": "python"
    }
  },
  "cells": [
    {
      "cell_type": "markdown",
      "source": [
        "Refer to the lectures, implement Bayesian classifier from scratch, use it on MNIST dataset, and test.\n",
        "\n",
        "Generate the confusion matrix and F1 score for each Dist."
      ],
      "metadata": {
        "id": "-uOm80lIwZPh"
      }
    },
    {
      "cell_type": "markdown",
      "source": [
        "### discret case\n"
      ],
      "metadata": {
        "id": "PK-z7p9Nvj_O"
      }
    },
    {
      "cell_type": "code",
      "source": [
        "import numpy as np\n",
        "from keras.datasets import mnist\n",
        "from sklearn.metrics import f1_score\n",
        "from sklearn.metrics import accuracy_score\n",
        "from sklearn.metrics import confusion_matrix"
      ],
      "metadata": {
        "id": "rDry5UTYhYhn"
      },
      "execution_count": null,
      "outputs": []
    },
    {
      "cell_type": "code",
      "source": [
        "#rearrange the data \n",
        "def arder_x_y(x,y):\n",
        "  uniq=np.unique(y)\n",
        "  x_ordered=[x[np.where(y==i)] for i in uniq]\n",
        "  t=np.sort(y)\n",
        "  return x_ordered,t"
      ],
      "metadata": {
        "id": "dDJLBse6kpCZ"
      },
      "execution_count": null,
      "outputs": []
    },
    {
      "cell_type": "code",
      "source": [
        "#probabilityies of y\n",
        "def prob_calc(y):\n",
        "  p= [ len(y[y==i])/len(y)  for i in np.unique(y)]\n",
        "  return p"
      ],
      "metadata": {
        "id": "eRan-6x7o0oc"
      },
      "execution_count": null,
      "outputs": []
    },
    {
      "cell_type": "code",
      "source": [
        "# probability of y given x for all classes and features\n",
        "def prob_x_given_y(x,y,x_uniq):\n",
        "  l=np.empty((0,len(x_uniq)))\n",
        "  for xx in x:\n",
        "    for x_ in np.transpose(xx):\n",
        "      r=[len(x_[x_==uni])/len(x_) for uni in x_uniq]\n",
        "      l=np.vstack([l,np.array(r)])\n",
        "  l=l.reshape(len(np.unique(y)),-1,len(np.unique(x_uniq)))\n",
        "  return np.asarray(l)"
      ],
      "metadata": {
        "id": "uQ_ZGQc_m3Gv"
      },
      "execution_count": null,
      "outputs": []
    },
    {
      "cell_type": "code",
      "source": [
        "#calculate probability of certain x given certain y\n",
        "def get_x_given_y(l,given_y,given_x,x_uniq):\n",
        "  u=[ l[given_y,idx,ua]   for idx, ua in enumerate(given_x)]\n",
        "  u=np.array(u)\n",
        "  return u"
      ],
      "metadata": {
        "id": "VwGSs-fn8yeg"
      },
      "execution_count": null,
      "outputs": []
    },
    {
      "cell_type": "code",
      "source": [
        "#the total peobability of x \n",
        "#add 1e-6 to avoid log(0)\n",
        "def get_probs(p,y,u):\n",
        "  pb=[np.log2(pp+1e-6) for pp in p] \n",
        "  y_unique=np.unique(y)\n",
        "  for y_u in y_unique:\n",
        "    for prob in np.array(u[y_u]):\n",
        "      pb[y_u]=pb[y_u]+np.log2(prob+1e-6)\n",
        "  return pb"
      ],
      "metadata": {
        "id": "qrFuEzH-FZqO"
      },
      "execution_count": null,
      "outputs": []
    },
    {
      "cell_type": "markdown",
      "source": [
        "Bayesian classifier for discrete values on minist"
      ],
      "metadata": {
        "id": "Hy5uW6y0PzLG"
      }
    },
    {
      "cell_type": "code",
      "execution_count": null,
      "metadata": {
        "id": "ctJ-LD4VwYVP"
      },
      "outputs": [],
      "source": [
        "#read the data\n",
        "(train_X, train_y), (test_X, test_y) = mnist.load_data()\n",
        "#reshape the data\n",
        "train_X=train_X.reshape([60000,28*28])\n",
        "test_X=test_X.reshape([10000,28*28])\n",
        "#reorder the data\n",
        "x,y=arder_x_y(train_X,train_y)\n",
        "#probability of y\n",
        "p=prob_calc(y)\n",
        "#get unique values of x\n",
        "x_uniq=np.unique(train_X)\n",
        "#probability of y given x for all classes and features\n",
        "l=prob_x_given_y(x,y,x_uniq)"
      ]
    },
    {
      "cell_type": "code",
      "source": [
        "#get y predicted\n",
        "y_pred=np.empty([0])\n",
        "for given_x in test_X:\n",
        "  u=[get_x_given_y(l,given_y,given_x,x_uniq) for given_y in np.unique(y)]\n",
        "  pb= get_probs(p,y,u)\n",
        "  y_pred=np.append(y_pred ,np.argmax(pb))"
      ],
      "metadata": {
        "id": "c6DAw2-TYqtw"
      },
      "execution_count": null,
      "outputs": []
    },
    {
      "cell_type": "code",
      "source": [
        "f1_score(test_y, y_pred, average='macro')"
      ],
      "metadata": {
        "colab": {
          "base_uri": "https://localhost:8080/"
        },
        "id": "eVNTB0KsabkA",
        "outputId": "e9db8531-f5c4-4d19-d4cf-78cfcd7e7875"
      },
      "execution_count": null,
      "outputs": [
        {
          "output_type": "execute_result",
          "data": {
            "text/plain": [
              "0.8436903480338364"
            ]
          },
          "metadata": {},
          "execution_count": 417
        }
      ]
    },
    {
      "cell_type": "code",
      "source": [
        "confusion_matrix(test_y, y_pred, labels=[0,1,2,3,4,5,6,7,8,9])"
      ],
      "metadata": {
        "colab": {
          "base_uri": "https://localhost:8080/"
        },
        "id": "BPMUd-caofUh",
        "outputId": "02b42c42-8907-489a-bc80-9cf632c8fd05"
      },
      "execution_count": null,
      "outputs": [
        {
          "output_type": "execute_result",
          "data": {
            "text/plain": [
              "array([[ 882,    0,    4,    3,    2,   49,   15,    1,   24,    0],\n",
              "       [   0, 1064,   21,    5,    1,   12,    5,    0,   27,    0],\n",
              "       [  16,    5,  859,   41,   19,    5,   25,    9,   52,    1],\n",
              "       [   2,    1,   34,  854,    0,   30,   10,   14,   39,   26],\n",
              "       [   3,    0,    7,    0,  805,    7,   17,    0,   30,  113],\n",
              "       [  24,    1,   11,  112,   20,  650,   19,    8,   28,   19],\n",
              "       [  12,    6,   26,    1,   12,   37,  854,    0,   10,    0],\n",
              "       [   1,   14,   13,    4,   26,    2,    1,  847,   38,   82],\n",
              "       [  15,    3,   15,   66,   10,   36,    7,    7,  785,   30],\n",
              "       [  11,    4,    4,    9,   71,   11,    1,   22,   24,  852]])"
            ]
          },
          "metadata": {},
          "execution_count": 418
        }
      ]
    },
    {
      "cell_type": "code",
      "source": [
        "accuracy_score(test_y, y_pred)"
      ],
      "metadata": {
        "colab": {
          "base_uri": "https://localhost:8080/"
        },
        "id": "TU44BjBkae51",
        "outputId": "9693c154-3d61-468f-dbd3-decd2978af86"
      },
      "execution_count": null,
      "outputs": [
        {
          "output_type": "execute_result",
          "data": {
            "text/plain": [
              "0.8452"
            ]
          },
          "metadata": {},
          "execution_count": 419
        }
      ]
    }
  ]
}